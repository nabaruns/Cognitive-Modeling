{
 "cells": [
  {
   "cell_type": "markdown",
   "metadata": {},
   "source": [
    "### Cognitive Modeling (02458): Homework 1 - Part 1: Psychophysics\n",
    "\n",
    "---\n",
    "\n",
    "_By Sebastian Sbirna (s190553) and Aleksander Frese (s163859)_"
   ]
  },
  {
   "cell_type": "code",
   "execution_count": 1,
   "metadata": {},
   "outputs": [],
   "source": [
    "import numpy as np \n",
    "import matplotlib.pyplot as plt\n",
    "import seaborn as sns\n",
    "\n",
    "sns.set()"
   ]
  },
  {
   "cell_type": "markdown",
   "metadata": {},
   "source": [
    "To perform this experiment, we select an interval of brightness intensity stimuli (i.e. *luminance*) from 1 to 10 while gradually increasing the stimulus by 1 each time."
   ]
  },
  {
   "cell_type": "code",
   "execution_count": 2,
   "metadata": {},
   "outputs": [],
   "source": [
    "luminance = np.arange(1, 11, 1)"
   ]
  },
  {
   "cell_type": "markdown",
   "metadata": {},
   "source": [
    "Steven's law ($\\psi = k* \\phi^s $) allows us to determine the perceived brightness at the eye of an observant. That was found to be (for $\\phi = luminance$ and $s = 0.33$):"
   ]
  },
  {
   "cell_type": "code",
   "execution_count": 3,
   "metadata": {},
   "outputs": [
    {
     "data": {
      "text/plain": [
       "array([10.        , 12.57013375, 14.36977652, 15.80082624, 17.00826843,\n",
       "       18.06300128, 19.00563363, 19.86184991, 20.64904773, 21.3796209 ])"
      ]
     },
     "execution_count": 3,
     "metadata": {},
     "output_type": "execute_result"
    }
   ],
   "source": [
    "perc_brightness_stevens = 10 * np.power(luminance, 0.33)\n",
    "perc_brightness_stevens"
   ]
  },
  {
   "cell_type": "markdown",
   "metadata": {},
   "source": [
    "Plotting the stimulus intensity against the measured response, we observe a logarithmic relationship for brightness stimuli:"
   ]
  },
  {
   "cell_type": "code",
   "execution_count": 4,
   "metadata": {},
   "outputs": [
    {
     "data": {
      "image/png": "[encoded data removed]",
      "text/plain": [
       "<Figure size 432x288 with 1 Axes>"
      ]
     },
     "metadata": {
      "needs_background": "light"
     },
     "output_type": "display_data"
    }
   ],
   "source": [
    "# plt.plot(luminance, perc_brightness_stevens);\n",
    "sns.lineplot(luminance, perc_brightness_stevens, markers = True, marker = \"o\")\n",
    "plt.xlabel('Luminance');\n",
    "plt.ylabel('Percieved brightness');"
   ]
  },
  {
   "cell_type": "markdown",
   "metadata": {},
   "source": [
    "Trying to compare this result against Fechner's earlier theory, let us construct our matrices X and Y needed for determination of the two unknown variables in Fechner's law: `k` and `threshold`. Fechner's law dictates that: $\\psi = k * log(\\frac{\\phi}{threshold}) $\n",
    "\n",
    "X will be the matrix of 10 lines and 2 columns, with one column indicating the stimulus levels of luminance (which will be multiplied with the slope `a = k` of the line), and the other column being a vector of ones needed to be multiplied with the intercept (`b = -k * log(threshold)`). The intercept (and, thus, the threshold) will always be constant, therefore it is appropriate to multiply it by 1.\n",
    "\n",
    "Y will be the matrix of results of the measured percieved stimulus, taken from Steven's law calculation."
   ]
  },
  {
   "cell_type": "code",
   "execution_count": 5,
   "metadata": {},
   "outputs": [
    {
     "data": {
      "text/plain": [
       "[array([0.        , 0.69314718, 1.09861229, 1.38629436, 1.60943791,\n",
       "        1.79175947, 1.94591015, 2.07944154, 2.19722458, 2.30258509]),\n",
       " array([1., 1., 1., 1., 1., 1., 1., 1., 1., 1.])]"
      ]
     },
     "execution_count": 5,
     "metadata": {},
     "output_type": "execute_result"
    }
   ],
   "source": [
    "X = [np.log(luminance), np.ones(10)]\n",
    "X"
   ]
  },
  {
   "cell_type": "code",
   "execution_count": 6,
   "metadata": {},
   "outputs": [
    {
     "data": {
      "text/plain": [
       "array([10.        , 12.57013375, 14.36977652, 15.80082624, 17.00826843,\n",
       "       18.06300128, 19.00563363, 19.86184991, 20.64904773, 21.3796209 ])"
      ]
     },
     "execution_count": 6,
     "metadata": {},
     "output_type": "execute_result"
    }
   ],
   "source": [
    "Y = np.array(perc_brightness_stevens)\n",
    "Y"
   ]
  },
  {
   "cell_type": "markdown",
   "metadata": {},
   "source": [
    "We are interested to find the matrix $\\beta$ in the formula: $Y = X * \\beta $, since we already have the values in X and Y. \n",
    "\n",
    "By multiplying the pseudoinverse of X ($X^{-1}$) with the matrix Y, we may obtain the matrix $\\beta$ and the results for the slope `a` and the intercept `b`."
   ]
  },
  {
   "cell_type": "code",
   "execution_count": 7,
   "metadata": {},
   "outputs": [
    {
     "data": {
      "text/plain": [
       "array([[-0.3123382 , -0.16900502, -0.08516049, -0.02567185,  0.02047113,\n",
       "         0.05817269,  0.0900489 ,  0.11766133,  0.14201722,  0.1638043 ],\n",
       "       [ 0.5717685 ,  0.35527216,  0.22862992,  0.13877582,  0.06907956,\n",
       "         0.01213358, -0.03601357, -0.07772052, -0.11450866, -0.14741678]])"
      ]
     },
     "execution_count": 7,
     "metadata": {},
     "output_type": "execute_result"
    }
   ],
   "source": [
    "np.linalg.pinv(X).T"
   ]
  },
  {
   "cell_type": "code",
   "execution_count": 8,
   "metadata": {},
   "outputs": [
    {
     "data": {
      "text/plain": [
       "array([5.00478258, 9.31138574])"
      ]
     },
     "execution_count": 8,
     "metadata": {},
     "output_type": "execute_result"
    }
   ],
   "source": [
    "a, b = np.dot(np.linalg.pinv(X).T, Y)\n",
    "np.dot(np.linalg.pinv(X).T, Y)"
   ]
  },
  {
   "cell_type": "markdown",
   "metadata": {},
   "source": [
    "If we now have found `a`, we have simultaneously found `k`. \n",
    "\n",
    "To compute `threshold`, we just need to plug in `k` into the equation for `b` (whose value has just been found from the $\\beta$ matrix)."
   ]
  },
  {
   "cell_type": "code",
   "execution_count": 9,
   "metadata": {},
   "outputs": [
    {
     "data": {
      "text/plain": [
       "5.004782583035392"
      ]
     },
     "execution_count": 9,
     "metadata": {},
     "output_type": "execute_result"
    }
   ],
   "source": [
    "k = a \n",
    "k"
   ]
  },
  {
   "cell_type": "code",
   "execution_count": 10,
   "metadata": {},
   "outputs": [
    {
     "data": {
      "text/plain": [
       "0.15559519451740833"
      ]
     },
     "execution_count": 10,
     "metadata": {},
     "output_type": "execute_result"
    }
   ],
   "source": [
    "threshold = np.power(np.e, -b/a)\n",
    "threshold"
   ]
  },
  {
   "cell_type": "markdown",
   "metadata": {},
   "source": [
    "Having all values of the model now available, let us compute the perceived brightness of observers and check how well does it fit with Stevens' more accurate model?"
   ]
  },
  {
   "cell_type": "code",
   "execution_count": 11,
   "metadata": {},
   "outputs": [],
   "source": [
    "perc_brightness_fechner = k * np.log(luminance / threshold)"
   ]
  },
  {
   "cell_type": "code",
   "execution_count": 12,
   "metadata": {},
   "outputs": [
    {
     "data": {
      "text/plain": [
       "array([ 9.31138574, 12.78043668, 14.80970139, 16.24948761, 17.36627257,\n",
       "       18.27875233, 19.05024296, 19.71853855, 20.30801704, 20.83532351])"
      ]
     },
     "execution_count": 12,
     "metadata": {},
     "output_type": "execute_result"
    }
   ],
   "source": [
    "perc_brightness_fechner"
   ]
  },
  {
   "cell_type": "code",
   "execution_count": 13,
   "metadata": {},
   "outputs": [
    {
     "data": {
      "text/plain": [
       "array([10.        , 12.57013375, 14.36977652, 15.80082624, 17.00826843,\n",
       "       18.06300128, 19.00563363, 19.86184991, 20.64904773, 21.3796209 ])"
      ]
     },
     "execution_count": 13,
     "metadata": {},
     "output_type": "execute_result"
    }
   ],
   "source": [
    "perc_brightness_stevens"
   ]
  },
  {
   "cell_type": "code",
   "execution_count": 14,
   "metadata": {},
   "outputs": [
    {
     "data": {
      "image/png": "[encoded data removed]",
      "text/plain": [
       "<Figure size 432x288 with 1 Axes>"
      ]
     },
     "metadata": {
      "needs_background": "light"
     },
     "output_type": "display_data"
    }
   ],
   "source": [
    "# plt.plot(perc_brightness_fechner);\n",
    "# plt.plot(perc_brightness_stevens);\n",
    "sns.lineplot(luminance, perc_brightness_stevens, markers = True, marker = \"o\");\n",
    "sns.lineplot(luminance, perc_brightness_fechner, markers = True, marker = \"o\");\n",
    "plt.xlabel('Luminance');\n",
    "plt.ylabel('Percieved brightness');\n",
    "plt.legend(labels = ['Stevens', 'Fechner']);"
   ]
  },
  {
   "cell_type": "markdown",
   "metadata": {},
   "source": [
    "The results above show that, for certain stimuli which act on a logarithmic scale, Fechner's law is a good approximation of the perceived brighness response.\n",
    "\n",
    "Now we will concentrate on another experiment, this time involving electric shock stimuli, which has been determined by Stevens to act on a power scale.\n",
    "\n",
    "The computations are largely identical in manner to the previous experiment."
   ]
  },
  {
   "cell_type": "code",
   "execution_count": 15,
   "metadata": {},
   "outputs": [],
   "source": [
    "voltage = np.arange(1, 11, 1)"
   ]
  },
  {
   "cell_type": "code",
   "execution_count": 16,
   "metadata": {},
   "outputs": [
    {
     "data": {
      "text/plain": [
       "array([1.50000000e-04, 1.47737330e-03, 5.63107614e-03, 1.45508790e-02,\n",
       "       3.03873112e-02, 5.54613434e-02, 9.22390436e-02, 1.43313868e-01,\n",
       "       2.11393457e-01, 2.99289347e-01])"
      ]
     },
     "execution_count": 16,
     "metadata": {},
     "output_type": "execute_result"
    }
   ],
   "source": [
    "perc_intensity_stevens = 0.00015 * np.power(voltage, 3.3)\n",
    "perc_intensity_stevens"
   ]
  },
  {
   "cell_type": "code",
   "execution_count": 17,
   "metadata": {},
   "outputs": [
    {
     "data": {
      "image/png": "[encoded data removed]",
      "text/plain": [
       "<Figure size 432x288 with 1 Axes>"
      ]
     },
     "metadata": {
      "needs_background": "light"
     },
     "output_type": "display_data"
    }
   ],
   "source": [
    "# plt.plot(voltage, perc_intensity_stevens);\n",
    "sns.lineplot(voltage, perc_intensity_stevens, markers = True, marker = \"o\")\n",
    "plt.xlabel('Voltage');\n",
    "plt.ylabel('Percieved intensity');"
   ]
  },
  {
   "cell_type": "code",
   "execution_count": 18,
   "metadata": {},
   "outputs": [
    {
     "data": {
      "text/plain": [
       "[array([0.        , 0.69314718, 1.09861229, 1.38629436, 1.60943791,\n",
       "        1.79175947, 1.94591015, 2.07944154, 2.19722458, 2.30258509]),\n",
       " array([1., 1., 1., 1., 1., 1., 1., 1., 1., 1.])]"
      ]
     },
     "execution_count": 18,
     "metadata": {},
     "output_type": "execute_result"
    }
   ],
   "source": [
    "X = [np.log(voltage), np.ones(10)]\n",
    "X"
   ]
  },
  {
   "cell_type": "code",
   "execution_count": 19,
   "metadata": {},
   "outputs": [
    {
     "data": {
      "text/plain": [
       "array([1.50000000e-04, 1.47737330e-03, 5.63107614e-03, 1.45508790e-02,\n",
       "       3.03873112e-02, 5.54613434e-02, 9.22390436e-02, 1.43313868e-01,\n",
       "       2.11393457e-01, 2.99289347e-01])"
      ]
     },
     "execution_count": 19,
     "metadata": {},
     "output_type": "execute_result"
    }
   ],
   "source": [
    "Y = np.array(perc_intensity_stevens)\n",
    "Y"
   ]
  },
  {
   "cell_type": "code",
   "execution_count": 20,
   "metadata": {},
   "outputs": [
    {
     "data": {
      "text/plain": [
       "array([[-0.3123382 , -0.16900502, -0.08516049, -0.02567185,  0.02047113,\n",
       "         0.05817269,  0.0900489 ,  0.11766133,  0.14201722,  0.1638043 ],\n",
       "       [ 0.5717685 ,  0.35527216,  0.22862992,  0.13877582,  0.06907956,\n",
       "         0.01213358, -0.03601357, -0.07772052, -0.11450866, -0.14741678]])"
      ]
     },
     "execution_count": 20,
     "metadata": {},
     "output_type": "execute_result"
    }
   ],
   "source": [
    "np.linalg.pinv(X).T"
   ]
  },
  {
   "cell_type": "code",
   "execution_count": 21,
   "metadata": {},
   "outputs": [
    {
     "data": {
      "text/plain": [
       "array([ 0.10691369, -0.07609748])"
      ]
     },
     "execution_count": 21,
     "metadata": {},
     "output_type": "execute_result"
    }
   ],
   "source": [
    "a, b = np.dot(np.linalg.pinv(X).T, Y)\n",
    "np.dot(np.linalg.pinv(X).T, Y)"
   ]
  },
  {
   "cell_type": "code",
   "execution_count": 22,
   "metadata": {},
   "outputs": [
    {
     "data": {
      "text/plain": [
       "0.10691368822274316"
      ]
     },
     "execution_count": 22,
     "metadata": {},
     "output_type": "execute_result"
    }
   ],
   "source": [
    "k = a \n",
    "k"
   ]
  },
  {
   "cell_type": "code",
   "execution_count": 23,
   "metadata": {},
   "outputs": [
    {
     "data": {
      "text/plain": [
       "2.0375854630876846"
      ]
     },
     "execution_count": 23,
     "metadata": {},
     "output_type": "execute_result"
    }
   ],
   "source": [
    "threshold = np.power(np.e, -b/a)\n",
    "threshold"
   ]
  },
  {
   "cell_type": "code",
   "execution_count": 24,
   "metadata": {},
   "outputs": [],
   "source": [
    "perc_intensity_fechner = k * np.log(voltage / threshold)"
   ]
  },
  {
   "cell_type": "code",
   "execution_count": 25,
   "metadata": {},
   "outputs": [
    {
     "data": {
      "text/plain": [
       "array([-0.07609748, -0.00199055,  0.04135922,  0.07211637,  0.09597347,\n",
       "        0.11546614,  0.13194696,  0.14622329,  0.15881591,  0.17008039])"
      ]
     },
     "execution_count": 25,
     "metadata": {},
     "output_type": "execute_result"
    }
   ],
   "source": [
    "perc_intensity_fechner"
   ]
  },
  {
   "cell_type": "code",
   "execution_count": 26,
   "metadata": {},
   "outputs": [
    {
     "data": {
      "text/plain": [
       "array([1.50000000e-04, 1.47737330e-03, 5.63107614e-03, 1.45508790e-02,\n",
       "       3.03873112e-02, 5.54613434e-02, 9.22390436e-02, 1.43313868e-01,\n",
       "       2.11393457e-01, 2.99289347e-01])"
      ]
     },
     "execution_count": 26,
     "metadata": {},
     "output_type": "execute_result"
    }
   ],
   "source": [
    "perc_intensity_stevens"
   ]
  },
  {
   "cell_type": "markdown",
   "metadata": {},
   "source": [
    "After having found our free-term variables `k` and `threshold` for this particular experiment, let us plot the graph of percieved stimulus intensities retrieved using both Stevens' and Fechner's law."
   ]
  },
  {
   "cell_type": "code",
   "execution_count": 27,
   "metadata": {},
   "outputs": [
    {
     "data": {
      "image/png": "[encoded data removed]",
      "text/plain": [
       "<Figure size 432x288 with 1 Axes>"
      ]
     },
     "metadata": {
      "needs_background": "light"
     },
     "output_type": "display_data"
    }
   ],
   "source": [
    "# plt.plot(perc_intensity_fechner);\n",
    "# plt.plot(perc_intensity_stevens);\n",
    "sns.lineplot(voltage, perc_intensity_stevens, markers = True, marker = \"o\");\n",
    "sns.lineplot(voltage, perc_intensity_fechner, markers = True, marker = \"o\");\n",
    "plt.xlabel('Voltage');\n",
    "plt.ylabel('Percieved intensity');\n",
    "plt.legend(labels = ['Stevens', 'Fechner']);"
   ]
  },
  {
   "cell_type": "markdown",
   "metadata": {},
   "source": [
    "Exactly as argued, in this case of stimulus, we can see that the logarithmic approach of Fechner's law no longer estimates properly the trend in differences between percieved intensities of observers. Thus, we can admit that Fechner's law is only a case approximation of the perceived stimulus response in experiments where stimuli detection behaves logarithmically."
   ]
  }
 ],
 "metadata": {
  "kernelspec": {
   "display_name": "Python 3",
   "language": "python",
   "name": "python3"
  },
  "language_info": {
   "codemirror_mode": {
    "name": "ipython",
    "version": 3
   },
   "file_extension": ".py",
   "mimetype": "text/x-python",
   "name": "python",
   "nbconvert_exporter": "python",
   "pygments_lexer": "ipython3",
   "version": "3.7.3"
  }
 },
 "nbformat": 4,
 "nbformat_minor": 4
}
