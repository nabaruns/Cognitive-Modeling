{
 "cells": [
  {
   "cell_type": "markdown",
   "metadata": {},
   "source": [
    "### Cognitive Modeling (02458): Homework 1 - Part 2: Signal Detection Theory\n",
    "\n",
    "---\n",
    "\n",
    "_By Sebastian Sbirna (s190553) and Aleksander Frese (s163859)_"
   ]
  },
  {
   "cell_type": "code",
   "execution_count": 150,
   "metadata": {},
   "outputs": [],
   "source": [
    "import numpy as np \n",
    "import matplotlib.pyplot as plt\n",
    "import seaborn as sns\n",
    "\n",
    "sns.set()"
   ]
  },
  {
   "cell_type": "markdown",
   "metadata": {},
   "source": [
    "### Part 1: \n",
    "\n",
    "First in this exercise, for each of the three selected criterions $\\lambda$: \n",
    "\n",
    "1. $\\lambda$ is conservative and ~= __1.5__ \n",
    "2. $\\lambda$ is lax and ~= __-0.5__\n",
    "3. $\\lambda$ is moderate and ~= __0.5__, \n",
    "\n",
    "we will simulate, 100 trials from an observer with __equal variance__ properties and $d' = 1$ (where $d' = \\mu _s - \\mu _n$). \n",
    "\n",
    "In total, this means that we will simulate 300 trials. Considering that each of the 3 experiments has 100 trials and we have two normal distributions to represent: the noise distribution and the signal distribution, we will collect 50 trials for each of the distributions, for each experiment."
   ]
  },
  {
   "cell_type": "code",
   "execution_count": 79,
   "metadata": {},
   "outputs": [],
   "source": [
    "trials_noise_set_1 = np.random.normal(0, 1, 50)\n",
    "trials_noise_set_2 = np.random.normal(0, 1, 50)\n",
    "trials_noise_set_3 = np.random.normal(0, 1, 50)\n",
    "\n",
    "trials_signal_set_1 = np.random.normal(1, 1, 50)\n",
    "trials_signal_set_2 = np.random.normal(1, 1, 50)\n",
    "trials_signal_set_3 = np.random.normal(1, 1, 50)"
   ]
  },
  {
   "cell_type": "markdown",
   "metadata": {},
   "source": [
    "The function below will convert an actual stimulus (or noise) to a percieved representation for an observer, depending on how his biased criterion makes decisions. \n",
    "\n",
    "We would expect that a lax observant will have much higher ___TPR___ and ___FPR___ than the conservative one, while the moderate observant should be closer to give median values for these two metrics."
   ]
  },
  {
   "cell_type": "code",
   "execution_count": 80,
   "metadata": {},
   "outputs": [],
   "source": [
    "def conversion(criterion, data_input):\n",
    "    if (data_input >= criterion):\n",
    "        return 1\n",
    "    else:\n",
    "        return 0"
   ]
  },
  {
   "cell_type": "markdown",
   "metadata": {},
   "source": [
    "From here, we can find out how an observer has responded, in relation to the signal and noise presented to him, like so: depending on the criterion, if the stimulus intensity is higher than the observer's criterion, then they will respond with 'Yes' and we will record it as so. Otherwise, if the stimulus intensity is below the criterion value, we will record the response as a 'No'. That is why higher criterion levels (e.g. for conservative observers) will make the response to any stimulus value be less likely to be a 'Yes', as the threshold for responding 'Yes' has been set to a high value. The exact opposite happens for lower criterion levels (e.g. for lax observers)."
   ]
  },
  {
   "cell_type": "code",
   "execution_count": 81,
   "metadata": {},
   "outputs": [],
   "source": [
    "lbda = 1.5\n",
    "\n",
    "obs_response_signal_conservative = [conversion(lbda, signal_resp) for signal_resp in trials_signal_set_1]\n",
    "obs_response_noise_conservative = [conversion(lbda, noise_resp) for noise_resp in trials_noise_set_1]"
   ]
  },
  {
   "cell_type": "code",
   "execution_count": 82,
   "metadata": {},
   "outputs": [],
   "source": [
    "lbda = -0.5\n",
    "\n",
    "obs_response_signal_lax = [conversion(lbda, signal_resp) for signal_resp in trials_signal_set_2]\n",
    "obs_response_noise_lax = [conversion(lbda, noise_resp) for noise_resp in trials_noise_set_2]"
   ]
  },
  {
   "cell_type": "code",
   "execution_count": 83,
   "metadata": {},
   "outputs": [],
   "source": [
    "lbda = 0.5\n",
    "\n",
    "obs_response_signal_moderate = [conversion(lbda, signal_resp) for signal_resp in trials_signal_set_3]\n",
    "obs_response_noise_moderate = [conversion(lbda, noise_resp) for noise_resp in trials_noise_set_3]"
   ]
  },
  {
   "cell_type": "markdown",
   "metadata": {},
   "source": [
    "Having obtained the percieved values of the observer's response, we can immediately compute:\n",
    "$$\n",
    "P(FA) = \\frac{N(1)_{noise}}{N_{noise}} \\\\\n",
    "P(CR) = \\frac{N(0)_{noise}}{N_{noise}} \\\\\n",
    "P(Hit) = \\frac{N(1)_{signal}}{N_{signal}} \\\\\n",
    "P(Miss) = \\frac{N(0)_{signal}}{N_{signal}} \\\\\n",
    "$$"
   ]
  },
  {
   "cell_type": "code",
   "execution_count": 84,
   "metadata": {},
   "outputs": [],
   "source": [
    "p_fa_conservative = sum(obs_response_noise_conservative) / len(trials_noise_set_1)\n",
    "p_cr_conservative = 1 - p_fa_conservative\n",
    "p_hit_conservative = sum(obs_response_signal_conservative) / len(trials_signal_set_1)\n",
    "p_miss_conservative = 1 - p_hit_conservative"
   ]
  },
  {
   "cell_type": "code",
   "execution_count": 85,
   "metadata": {},
   "outputs": [],
   "source": [
    "p_fa_lax = sum(obs_response_noise_lax) / len(trials_noise_set_2)\n",
    "p_cr_lax = 1 - p_fa_lax\n",
    "p_hit_lax = sum(obs_response_signal_lax) / len(trials_signal_set_2)\n",
    "p_miss_lax = 1 - p_hit_lax"
   ]
  },
  {
   "cell_type": "code",
   "execution_count": 86,
   "metadata": {},
   "outputs": [],
   "source": [
    "p_fa_moderate = sum(obs_response_noise_moderate) / len(trials_noise_set_3)\n",
    "p_cr_moderate = 1 - p_fa_moderate\n",
    "p_hit_moderate = sum(obs_response_signal_moderate) / len(trials_signal_set_3)\n",
    "p_miss_moderate = 1 - p_hit_moderate"
   ]
  },
  {
   "cell_type": "markdown",
   "metadata": {},
   "source": [
    "Since we have computed $P(Hit)$ and $P(FA)$, we may now compute $d'$ for each of the three experiments, knowing that $\\phi(\\lambda)$ = cdf($\\lambda$). \n",
    "\n",
    "Therefore, $\\phi^{-1}(P) = ppf(P)$, where PPF is the __Percent Point Function__."
   ]
  },
  {
   "cell_type": "code",
   "execution_count": 87,
   "metadata": {},
   "outputs": [],
   "source": [
    "import scipy.stats as stats\n",
    "\n",
    "est_d_prime_conservative = stats.norm.ppf(p_hit_conservative) - stats.norm.ppf(p_fa_conservative)\n",
    "est_d_prime_lax = stats.norm.ppf(p_hit_lax) - stats.norm.ppf(p_fa_lax)\n",
    "est_d_prime_moderate = stats.norm.ppf(p_hit_moderate) - stats.norm.ppf(p_fa_moderate)"
   ]
  },
  {
   "cell_type": "markdown",
   "metadata": {},
   "source": [
    "Let us check and see if we have received the correct $d'$ for each of these three experiments. We should automatically get a $d'$ = 1, since that is how we set the difference of means between the noise distibution ($\\mu = 0$) and the signal distribution ($\\mu = 1$) at the beginning of the exercise."
   ]
  },
  {
   "cell_type": "code",
   "execution_count": 88,
   "metadata": {},
   "outputs": [
    {
     "name": "stdout",
     "output_type": "stream",
     "text": [
      "d' for conservative observer is: 1.5860501115173147 (should be 1.00)\n",
      "d' for lax observer is: 0.8222300530384167 (should be 1.00)\n",
      "d' for moderate observer is: 1.1110442045074251 (should be 1.00)\n"
     ]
    }
   ],
   "source": [
    "print(\"d' for conservative observer is: \" + str(est_d_prime_conservative) + ' (should be 1.00)')\n",
    "print(\"d' for lax observer is: \" + str(est_d_prime_lax) + ' (should be 1.00)')\n",
    "print(\"d' for moderate observer is: \" + str(est_d_prime_moderate) + ' (should be 1.00)')"
   ]
  },
  {
   "cell_type": "markdown",
   "metadata": {},
   "source": [
    "As we could have expected, since we are dealing with experimental estimates, we can see that none of our 3 experiments lead to the correct value of $d'$, however the moderate criterion observer is the closest to the actual value of all the three observers."
   ]
  },
  {
   "cell_type": "markdown",
   "metadata": {},
   "source": [
    "### Part 2:\n",
    "\n",
    "Now we need to plot the __Gaussian__ ROC curve for the three experiments. We know that this curve will be a straight line due to plotting it in the Gaussian coordinate system. For an ___equal variance___ between signal and noise distibutions, the line will be making a 45$^{\\circ}$ angle when intersecting the __Ox__ and __Oy__ axes, and __our line slope will be equal to 1__.\n",
    "\n",
    "The line is determined by the inverse of the __cdf__ function upon the probabilities $P(FA)$ and $P(Hit)$. Therefore, if we have __P(FA)__ and __P(Hit)__ for each of our three experiments, we can plot a regression line through them, so that the SSE is minimal. This set of 2 probabilities is all we need to determine the ROC Gaussian line of fit.\n",
    "\n",
    "---"
   ]
  },
  {
   "cell_type": "markdown",
   "metadata": {},
   "source": [
    "Below, we will concatenate the probability results of the three functions, so that P(FA) will be on the first column and P(Hit) will be on the second column. We need this, since __P(FA) will correspond to our X values__ and __P(Hit) will be our Y values.__"
   ]
  },
  {
   "cell_type": "code",
   "execution_count": 89,
   "metadata": {},
   "outputs": [
    {
     "name": "stdout",
     "output_type": "stream",
     "text": [
      "[[-2.05374891 -0.4676988 ]\n",
      " [ 0.58284151  1.40507156]\n",
      " [-0.4676988   0.64334541]]\n"
     ]
    }
   ],
   "source": [
    "results_conservative = np.array([stats.norm.ppf(p_fa_conservative), stats.norm.ppf(p_hit_conservative)])\n",
    "results_lax = np.array([stats.norm.ppf(p_fa_lax), stats.norm.ppf(p_hit_lax)])\n",
    "results_moderate = np.array([stats.norm.ppf(p_fa_moderate), stats.norm.ppf(p_hit_moderate)])\n",
    "\n",
    "results_experiments = np.append([results_conservative], [results_lax], axis = 0)\n",
    "results_experiments = np.append(results_experiments, [results_moderate], axis = 0)\n",
    "\n",
    "print(results_experiments)"
   ]
  },
  {
   "cell_type": "code",
   "execution_count": 90,
   "metadata": {},
   "outputs": [],
   "source": [
    "x = results_experiments[:,0]\n",
    "y = results_experiments[:,1]\n",
    "\n",
    "slope, intercept, r_value, p_value, std_err = stats.linregress(x, y)"
   ]
  },
  {
   "cell_type": "code",
   "execution_count": 111,
   "metadata": {},
   "outputs": [
    {
     "data": {
      "image/png": "[encoded data removed]",
      "text/plain": [
       "<Figure size 396x396 with 1 Axes>"
      ]
     },
     "metadata": {},
     "output_type": "display_data"
    }
   ],
   "source": [
    "slope = 1 \n",
    "fig = plt.figure(figsize = [5.5, 5.5])\n",
    "ax = fig.add_subplot(1, 1, 1)\n",
    "ax.grid(True, which='both')\n",
    "\n",
    "ax.axhline(y=0, color='k') # this gives the Oy axis\n",
    "ax.axvline(x=0, color='k') # this gives the Ox axis\n",
    "\n",
    "ax.axhline(intercept, color = 'y', linestyle = '--'); # marking the Oy intersection point (d')\n",
    "ax.axvline(-intercept/slope, color = 'y', linestyle = '--'); # marking the Ox intersection point (-d')\n",
    "\n",
    "plt.plot(x, y, 'o', markersize = 8.5) # Plot original data\n",
    "plt.plot(x, slope * x + intercept, 'r') # Plot the fitted line\n",
    "\n",
    "plt.xticks(np.arange(-2.5, 2.0, 0.25), np.arange(-2.5, 2.0, 0.25)) # redefine Ox axis values for better readability\n",
    "plt.yticks(np.arange(-1.5, 2.0, 0.25), np.arange(-1.5, 2.0, 0.25)) # redefine Oy axis values for better readability\n",
    "\n",
    "plt.plot(0, intercept, 'r', marker = 'o', fillstyle = 'full', markersize = 12) # Make the Oy marker point more visible\n",
    "plt.plot(-intercept/slope, 0, 'r', marker = 'o', fillstyle = 'full', markersize = 12) # Make the Ox marker point more visible\n",
    "\n",
    "plt.text(x = 0.35, y = intercept + 0.025, s = 'd\\' = %.2f' % (intercept), horizontalalignment='center', fontsize=15); # Write the value of d' according to the Oy intersection\n",
    "plt.text(x = (-intercept/slope) + 0.26, y = -0.15 , s = '-d\\' = %.2f' % (-intercept/slope), horizontalalignment='center', fontsize=15); # Write the value of -d' according to the Ox intersection"
   ]
  },
  {
   "cell_type": "markdown",
   "metadata": {},
   "source": [
    "As we can observe from the calculations upon the Gaussian ROC model above, the estimated value of $d' = 0.99$ are reasonably close to the expected value of $d' = 1$ for an equal variance observer, taken with a small error margin."
   ]
  },
  {
   "cell_type": "markdown",
   "metadata": {},
   "source": [
    "### Part 3:\n",
    "\n",
    "In this last part, we will simulate the same number of stimulus-vs-noise experiments as before, but this time with changing the distribution properties of the signal, so that the mean is now higher ($\\mu_s = 2$, $\\mu_n = 0$) and the variance is now different than that of the noise distribution ($\\sigma_s = 1.5$, $\\sigma_n = 1$).\n",
    "\n",
    "This creates strong implications: we may no longer assume that our sensitivity measure $d'$ is equal to the difference between $\\mu_s - \\mu_n$. The formula right now needs to take into consideration the $\\mu_s$ and $\\sigma_s$ within the new signal distribution. Originally, we have set this values to be 2 and 1.5, respectively, however we understand that the generated random sample for the signal will not have exactly this mean and std. Therefore, we need to treat $\\mu$ and $\\sigma$ as unknowns, and compute them from the formula:\n",
    "$$\\phi^{-1}(P(Hit)) = \\frac{1}{\\sigma_s}\\phi^{-1}(P(FA)) + \\frac{\\mu_s}{\\sigma_s}$$\n",
    "\n",
    "This is a linear equation of the form: $ y = ax + b$, where we can compute (exactly like previously): $y = \\phi^{-1}(P(Hit))$ and $x = \\phi^{-1}(P(FA))$. \n",
    "\n",
    "From there, we will find the unknowns $\\sigma_s$ and $\\mu_s$, knowing that $a = \\frac{1}{\\sigma_s}$ and $b = \\frac{\\mu_s}{\\sigma_s}$. \n",
    "\n",
    "---"
   ]
  },
  {
   "cell_type": "markdown",
   "metadata": {},
   "source": [
    "The following steps will first verify what would be the result of $d'$ if we wouldn't know that the data comes from an unequal variance observer.\n",
    "\n",
    "The calculations are done exactly as in the previous part."
   ]
  },
  {
   "cell_type": "code",
   "execution_count": 151,
   "metadata": {},
   "outputs": [],
   "source": [
    "trials_noise_set_new_1 = np.random.normal(0, 1, 50)\n",
    "trials_noise_set_new_2 = np.random.normal(0, 1, 50)\n",
    "trials_noise_set_new_3 = np.random.normal(0, 1, 50)\n",
    "\n",
    "trials_ueq_signal_set_1 = np.random.normal(2, 1.5, 50)\n",
    "trials_ueq_signal_set_2 = np.random.normal(2, 1.5, 50)\n",
    "trials_ueq_signal_set_3 = np.random.normal(2, 1.5, 50)"
   ]
  },
  {
   "cell_type": "code",
   "execution_count": 152,
   "metadata": {},
   "outputs": [],
   "source": [
    "lbda = 1.5\n",
    "\n",
    "ueq_obs_response_signal_conservative = [conversion(lbda, signal_resp) for signal_resp in trials_ueq_signal_set_1]\n",
    "ueq_obs_response_noise_conservative = [conversion(lbda, noise_resp) for noise_resp in trials_noise_set_new_1]"
   ]
  },
  {
   "cell_type": "code",
   "execution_count": 153,
   "metadata": {},
   "outputs": [],
   "source": [
    "lbda = -0.5\n",
    "\n",
    "ueq_obs_response_signal_lax = [conversion(lbda, signal_resp) for signal_resp in trials_ueq_signal_set_2]\n",
    "ueq_obs_response_noise_lax = [conversion(lbda, noise_resp) for noise_resp in trials_noise_set_new_2]"
   ]
  },
  {
   "cell_type": "code",
   "execution_count": 154,
   "metadata": {},
   "outputs": [],
   "source": [
    "lbda = 0.5\n",
    "\n",
    "ueq_obs_response_signal_moderate = [conversion(lbda, signal_resp) for signal_resp in trials_ueq_signal_set_3]\n",
    "ueq_obs_response_noise_moderate = [conversion(lbda, noise_resp) for noise_resp in trials_noise_set_new_3]"
   ]
  },
  {
   "cell_type": "code",
   "execution_count": 155,
   "metadata": {},
   "outputs": [],
   "source": [
    "ueq_p_fa_conservative = sum(ueq_obs_response_noise_conservative) / len(trials_noise_set_new_1)\n",
    "ueq_p_cr_conservative = 1 - ueq_p_fa_conservative\n",
    "ueq_p_hit_conservative = sum(ueq_obs_response_signal_conservative) / len(trials_ueq_signal_set_1)\n",
    "ueq_p_miss_conservative = 1 - ueq_p_hit_conservative"
   ]
  },
  {
   "cell_type": "code",
   "execution_count": 156,
   "metadata": {},
   "outputs": [],
   "source": [
    "ueq_p_fa_lax = sum(ueq_obs_response_noise_lax) / len(trials_noise_set_new_2)\n",
    "ueq_p_cr_lax = 1 - ueq_p_fa_lax\n",
    "ueq_p_hit_lax = sum(ueq_obs_response_signal_lax) / len(trials_ueq_signal_set_2)\n",
    "ueq_p_miss_lax = 1 - ueq_p_hit_lax"
   ]
  },
  {
   "cell_type": "code",
   "execution_count": 157,
   "metadata": {},
   "outputs": [],
   "source": [
    "ueq_p_fa_moderate = sum(ueq_obs_response_noise_moderate) / len(trials_noise_set_new_3)\n",
    "ueq_p_cr_moderate = 1 - ueq_p_fa_moderate\n",
    "ueq_p_hit_moderate = sum(ueq_obs_response_signal_moderate) / len(trials_ueq_signal_set_3)\n",
    "ueq_p_miss_moderate = 1 - ueq_p_hit_moderate"
   ]
  },
  {
   "cell_type": "code",
   "execution_count": 158,
   "metadata": {},
   "outputs": [],
   "source": [
    "import scipy.stats as stats\n",
    "\n",
    "new_est_d_prime_conservative = stats.norm.ppf(ueq_p_hit_conservative) - stats.norm.ppf(ueq_p_fa_conservative)\n",
    "new_est_d_prime_lax = stats.norm.ppf(ueq_p_hit_lax) - stats.norm.ppf(ueq_p_fa_lax)\n",
    "new_est_d_prime_moderate = stats.norm.ppf(ueq_p_hit_moderate) - stats.norm.ppf(ueq_p_fa_moderate)"
   ]
  },
  {
   "cell_type": "code",
   "execution_count": 159,
   "metadata": {},
   "outputs": [
    {
     "name": "stdout",
     "output_type": "stream",
     "text": [
      "d' for conservative observer is: 2.022472393711362 (should have been 1.00 if the signal-noise curves had equal variance)\n",
      "d' for lax observer is: 1.3922272780009755 (should have been 1.00 if the signal-noise curves had equal variance)\n",
      "d' for moderate observer is: 1.2208458759422112 (should have been 1.00 if the signal-noise curves had equal variance)\n"
     ]
    }
   ],
   "source": [
    "print(\"d' for conservative observer is: \" + str(new_est_d_prime_conservative) + ' (should have been 1.00 if the signal-noise curves had equal variance)')\n",
    "print(\"d' for lax observer is: \" + str(new_est_d_prime_lax) + ' (should have been 1.00 if the signal-noise curves had equal variance)')\n",
    "print(\"d' for moderate observer is: \" + str(new_est_d_prime_moderate) + ' (should have been 1.00 if the signal-noise curves had equal variance)')"
   ]
  },
  {
   "cell_type": "markdown",
   "metadata": {},
   "source": [
    "As we can see here, the $d'$ values received are much more further off the assumed difference of 1.00 (if the observer would have had equal variance distributions).\n",
    "\n",
    "Therefore, we can figure that such results for the sensivity variable are wrong, and we should not work with them."
   ]
  },
  {
   "cell_type": "markdown",
   "metadata": {},
   "source": [
    "---\n",
    "Now, we will compute the actual unequal variance-related d' parameter, using the matrix $Y$ where we put the three found values of $\\phi^{-1}(P(Hit))$, the matrix $X$ where we have, as first column, the values of $\\phi^{-1}(P(FA))$, and a second column of ones for the intercept (since the intercept is always a constant). We will want to compute the matrix $\\beta$, where we understand that $ \\beta= \\left[ {\\begin{array}{c} slope(a) \\\\ intercept(b) \\\\ \\end{array} } \\right]$."
   ]
  },
  {
   "cell_type": "markdown",
   "metadata": {},
   "source": [
    "To perform the computation of finding $\\beta$ from the formula $Y = X * \\beta$, we will use the pseudoinverse of the matrix $X$, i.e. $X^{-1}$. \n",
    "\n",
    "Therefore: $X^{-1} * Y (= X^{-1} * X * \\beta) = \\beta$"
   ]
  },
  {
   "cell_type": "code",
   "execution_count": 160,
   "metadata": {},
   "outputs": [
    {
     "data": {
      "text/plain": [
       "array([[-1.55477359,  1.        ],\n",
       "       [ 0.35845879,  1.        ],\n",
       "       [-0.30548079,  1.        ]])"
      ]
     },
     "execution_count": 160,
     "metadata": {},
     "output_type": "execute_result"
    }
   ],
   "source": [
    "results_experiments_new = np.array((stats.norm.ppf(ueq_p_fa_conservative), stats.norm.ppf(ueq_p_fa_lax), stats.norm.ppf(ueq_p_fa_moderate))).reshape(3, 1)\n",
    "\n",
    "X = np.concatenate((results_experiments_new, np.ones((3, 1))), axis = 1)\n",
    "X"
   ]
  },
  {
   "cell_type": "code",
   "execution_count": 161,
   "metadata": {},
   "outputs": [
    {
     "data": {
      "text/plain": [
       "array([[0.4676988 ],\n",
       "       [1.75068607],\n",
       "       [0.91536509]])"
      ]
     },
     "execution_count": 161,
     "metadata": {},
     "output_type": "execute_result"
    }
   ],
   "source": [
    "Y = np.array((stats.norm.ppf(ueq_p_hit_conservative), stats.norm.ppf(ueq_p_hit_lax), stats.norm.ppf(ueq_p_hit_moderate))).reshape(3, 1)\n",
    "Y"
   ]
  },
  {
   "cell_type": "markdown",
   "metadata": {},
   "source": [
    "The pseudoinverse of the matrix $X$ may be obtained in the following way:"
   ]
  },
  {
   "cell_type": "code",
   "execution_count": 162,
   "metadata": {},
   "outputs": [
    {
     "data": {
      "text/plain": [
       "array([[-0.55855203,  0.45516938,  0.10338265],\n",
       "       [ 0.05372301,  0.56119046,  0.38508654]])"
      ]
     },
     "execution_count": 162,
     "metadata": {},
     "output_type": "execute_result"
    }
   ],
   "source": [
    "np.linalg.pinv(X)"
   ]
  },
  {
   "cell_type": "markdown",
   "metadata": {},
   "source": [
    "By multiplying the pseudoinverse of X ($X^{-1}$) with the matrix Y, we may obtain the matrix $\\beta$ and the results for the slope $a$ and the intercept $b$."
   ]
  },
  {
   "cell_type": "code",
   "execution_count": 163,
   "metadata": {},
   "outputs": [
    {
     "data": {
      "text/plain": [
       "array([[0.63025745],\n",
       "       [1.36008927]])"
      ]
     },
     "execution_count": 163,
     "metadata": {},
     "output_type": "execute_result"
    }
   ],
   "source": [
    "a, b = np.dot(np.linalg.pinv(X), Y)\n",
    "np.dot(np.linalg.pinv(X), Y)"
   ]
  },
  {
   "cell_type": "markdown",
   "metadata": {},
   "source": [
    "If we now have found $a$, we have simultaneously found $\\sigma_s$. \n",
    "\n",
    "To compute $\\mu_s$, we just need to plug in $\\sigma_s$ into the equation for $b$ (whose value has just been found from the $\\beta$ matrix)."
   ]
  },
  {
   "cell_type": "code",
   "execution_count": 164,
   "metadata": {},
   "outputs": [
    {
     "name": "stdout",
     "output_type": "stream",
     "text": [
      "[1.5866532]\n"
     ]
    }
   ],
   "source": [
    "sigma_s = 1/a\n",
    "print(sigma_s)"
   ]
  },
  {
   "cell_type": "code",
   "execution_count": 165,
   "metadata": {},
   "outputs": [
    {
     "name": "stdout",
     "output_type": "stream",
     "text": [
      "[2.15799]\n"
     ]
    }
   ],
   "source": [
    "mu_s = b * sigma_s\n",
    "print(str(mu_s))"
   ]
  },
  {
   "cell_type": "markdown",
   "metadata": {},
   "source": [
    "As we can see above, we have successfully approximately recovered our $\\mu_s = 2.15$  (originally equal to 2.00) and $\\sigma_s = 1.58$ (originally equal to 1.5). \n",
    "\n",
    "This means that the sensitivity of the observer has now been successfully recorded and the criterion biases are now accounted for."
   ]
  },
  {
   "cell_type": "code",
   "execution_count": 166,
   "metadata": {},
   "outputs": [
    {
     "name": "stdout",
     "output_type": "stream",
     "text": [
      "[[-1.55477359  0.4676988 ]\n",
      " [ 0.35845879  1.75068607]\n",
      " [-0.30548079  0.91536509]]\n"
     ]
    }
   ],
   "source": [
    "ueq_results_conservative = np.array([stats.norm.ppf(ueq_p_fa_conservative), stats.norm.ppf(ueq_p_hit_conservative)])\n",
    "ueq_results_lax = np.array([stats.norm.ppf(ueq_p_fa_lax), stats.norm.ppf(ueq_p_hit_lax)])\n",
    "ueq_results_moderate = np.array([stats.norm.ppf(ueq_p_fa_moderate), stats.norm.ppf(ueq_p_hit_moderate)])\n",
    "\n",
    "ueq_results_experiments = np.append([ueq_results_conservative], [ueq_results_lax], axis = 0)\n",
    "ueq_results_experiments = np.append(ueq_results_experiments, [ueq_results_moderate], axis = 0)\n",
    "\n",
    "print(ueq_results_experiments)"
   ]
  },
  {
   "cell_type": "code",
   "execution_count": 167,
   "metadata": {},
   "outputs": [],
   "source": [
    "x = ueq_results_experiments[:,0]\n",
    "y = ueq_results_experiments[:,1]\n",
    "\n",
    "slope, intercept, r_value, p_value, std_err = stats.linregress(x, y)"
   ]
  },
  {
   "cell_type": "code",
   "execution_count": 177,
   "metadata": {},
   "outputs": [
    {
     "data": {
      "image/png": "[encoded data removed]",
      "text/plain": [
       "<Figure size 396x396 with 1 Axes>"
      ]
     },
     "metadata": {},
     "output_type": "display_data"
    }
   ],
   "source": [
    "fig = plt.figure(figsize = [5.5, 5.5])\n",
    "ax = fig.add_subplot(1, 1, 1)\n",
    "ax.grid(True, which='both')\n",
    "\n",
    "ax.axhline(y=0, color='k') # this gives the Oy axis\n",
    "ax.axvline(x=0, color='k') # this gives the Ox axis\n",
    "\n",
    "ax.axhline(intercept, color = 'y', linestyle = '--'); # marking the Oy intersection point (d')\n",
    "\n",
    "plt.plot(x, y, 'o', markersize = 8.5) # Plot original data\n",
    "plt.plot(x, slope * x + intercept, 'r') # Plot the fitted line\n",
    "\n",
    "plt.xticks(np.arange(-2.5, 2.0, 0.25), np.arange(-2.5, 2.0, 0.25)) # redefine Ox axis values for better readability\n",
    "plt.yticks(np.arange(-1.5, 2.0, 0.25), np.arange(-1.5, 2.0, 0.25)) # redefine Oy axis values for better readability\n",
    "\n",
    "plt.plot(0, intercept, 'r', marker = 'o', fillstyle = 'full', markersize = 12); # Make the Oy marker point more visible"
   ]
  },
  {
   "cell_type": "markdown",
   "metadata": {},
   "source": [
    "As we can observe from the picture and calculations above, the intersection of a Gaussian ROC curve with the axes of coordinates, for an unequal variance observer, is not giving off a 45°–45°–90° triangle anymore, due to the necessary considerations for $\\mu_s$ and $\\sigma_s$ in the model. "
   ]
  }
 ],
 "metadata": {
  "kernelspec": {
   "display_name": "Python 3",
   "language": "python",
   "name": "python3"
  },
  "language_info": {
   "codemirror_mode": {
    "name": "ipython",
    "version": 3
   },
   "file_extension": ".py",
   "mimetype": "text/x-python",
   "name": "python",
   "nbconvert_exporter": "python",
   "pygments_lexer": "ipython3",
   "version": "3.7.3"
  }
 },
 "nbformat": 4,
 "nbformat_minor": 4
}
